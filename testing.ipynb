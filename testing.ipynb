{
 "cells": [
  {
   "cell_type": "code",
   "execution_count": 1,
   "metadata": {},
   "outputs": [],
   "source": [
    "import os\n",
    "import random"
   ]
  },
  {
   "cell_type": "code",
   "execution_count": 2,
   "metadata": {},
   "outputs": [],
   "source": [
    "parts = ['hand_l', 'foot_l', 'hand_r', 'foot_r']\n",
    "plan_or_exec = ['plan', 'exec']"
   ]
  },
  {
   "cell_type": "code",
   "execution_count": 8,
   "metadata": {},
   "outputs": [
    {
     "name": "stdout",
     "output_type": "stream",
     "text": [
      "0 0\n",
      "1 0\n",
      "2 0\n",
      "3 0\n",
      "0 1\n",
      "1 1\n",
      "2 1\n",
      "3 1\n"
     ]
    }
   ],
   "source": [
    "trials = []\n",
    "for i in range(8):\n",
    "    pick_part = i%len(parts)\n",
    "    pick_plan_or_exec = (i//len(parts))%len(plan_or_exec)\n",
    "    print(f'{pick_part} {pick_plan_or_exec}')"
   ]
  }
 ],
 "metadata": {
  "kernelspec": {
   "display_name": "cogs219_2",
   "language": "python",
   "name": "python3"
  },
  "language_info": {
   "codemirror_mode": {
    "name": "ipython",
    "version": 3
   },
   "file_extension": ".py",
   "mimetype": "text/x-python",
   "name": "python",
   "nbconvert_exporter": "python",
   "pygments_lexer": "ipython3",
   "version": "3.10.16"
  }
 },
 "nbformat": 4,
 "nbformat_minor": 2
}
